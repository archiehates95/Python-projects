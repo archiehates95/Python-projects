{
 "cells": [
  {
   "cell_type": "code",
   "execution_count": 1,
   "metadata": {},
   "outputs": [],
   "source": [
    "import pandas as pd\n",
    "import numpy as np\n",
    "import matplotlib.pyplot as plt\n",
    "\n",
    "from sklearn.linear_model import Lasso\n",
    "from sklearn.feature_selection import SelectFromModel\n"
   ]
  },
  {
   "cell_type": "code",
   "execution_count": 2,
   "metadata": {},
   "outputs": [
    {
     "data": {
      "text/html": [
       "<div>\n",
       "<style scoped>\n",
       "    .dataframe tbody tr th:only-of-type {\n",
       "        vertical-align: middle;\n",
       "    }\n",
       "\n",
       "    .dataframe tbody tr th {\n",
       "        vertical-align: top;\n",
       "    }\n",
       "\n",
       "    .dataframe thead th {\n",
       "        text-align: right;\n",
       "    }\n",
       "</style>\n",
       "<table border=\"1\" class=\"dataframe\">\n",
       "  <thead>\n",
       "    <tr style=\"text-align: right;\">\n",
       "      <th></th>\n",
       "      <th>Dependents</th>\n",
       "      <th>ApplicantIncome</th>\n",
       "      <th>CoapplicantIncome</th>\n",
       "      <th>LoanAmount</th>\n",
       "      <th>Loan_Amount_Term</th>\n",
       "      <th>Credit_History</th>\n",
       "      <th>Gender_Female</th>\n",
       "      <th>Gender_Male</th>\n",
       "      <th>Gender_Missing</th>\n",
       "      <th>Married_Missing</th>\n",
       "      <th>...</th>\n",
       "      <th>Married_Yes</th>\n",
       "      <th>Education_Graduate</th>\n",
       "      <th>Education_Not Graduate</th>\n",
       "      <th>Self_Employed_Missing</th>\n",
       "      <th>Self_Employed_No</th>\n",
       "      <th>Self_Employed_Yes</th>\n",
       "      <th>Property_Area_Rural</th>\n",
       "      <th>Property_Area_Semiurban</th>\n",
       "      <th>Property_Area_Urban</th>\n",
       "      <th>Loan_Status</th>\n",
       "    </tr>\n",
       "  </thead>\n",
       "  <tbody>\n",
       "    <tr>\n",
       "      <td>0</td>\n",
       "      <td>0</td>\n",
       "      <td>0.072991</td>\n",
       "      <td>-0.554487</td>\n",
       "      <td>-0.211241</td>\n",
       "      <td>0.273231</td>\n",
       "      <td>1</td>\n",
       "      <td>0</td>\n",
       "      <td>1</td>\n",
       "      <td>0</td>\n",
       "      <td>0</td>\n",
       "      <td>...</td>\n",
       "      <td>0</td>\n",
       "      <td>1</td>\n",
       "      <td>0</td>\n",
       "      <td>0</td>\n",
       "      <td>1</td>\n",
       "      <td>0</td>\n",
       "      <td>0</td>\n",
       "      <td>0</td>\n",
       "      <td>1</td>\n",
       "      <td>Y</td>\n",
       "    </tr>\n",
       "    <tr>\n",
       "      <td>1</td>\n",
       "      <td>1</td>\n",
       "      <td>-0.134412</td>\n",
       "      <td>-0.038732</td>\n",
       "      <td>-0.211241</td>\n",
       "      <td>0.273231</td>\n",
       "      <td>1</td>\n",
       "      <td>0</td>\n",
       "      <td>1</td>\n",
       "      <td>0</td>\n",
       "      <td>0</td>\n",
       "      <td>...</td>\n",
       "      <td>1</td>\n",
       "      <td>1</td>\n",
       "      <td>0</td>\n",
       "      <td>0</td>\n",
       "      <td>1</td>\n",
       "      <td>0</td>\n",
       "      <td>1</td>\n",
       "      <td>0</td>\n",
       "      <td>0</td>\n",
       "      <td>N</td>\n",
       "    </tr>\n",
       "    <tr>\n",
       "      <td>2</td>\n",
       "      <td>0</td>\n",
       "      <td>-0.393747</td>\n",
       "      <td>-0.554487</td>\n",
       "      <td>-0.948996</td>\n",
       "      <td>0.273231</td>\n",
       "      <td>1</td>\n",
       "      <td>0</td>\n",
       "      <td>1</td>\n",
       "      <td>0</td>\n",
       "      <td>0</td>\n",
       "      <td>...</td>\n",
       "      <td>1</td>\n",
       "      <td>1</td>\n",
       "      <td>0</td>\n",
       "      <td>0</td>\n",
       "      <td>0</td>\n",
       "      <td>1</td>\n",
       "      <td>0</td>\n",
       "      <td>0</td>\n",
       "      <td>1</td>\n",
       "      <td>Y</td>\n",
       "    </tr>\n",
       "    <tr>\n",
       "      <td>3</td>\n",
       "      <td>0</td>\n",
       "      <td>-0.462062</td>\n",
       "      <td>0.251980</td>\n",
       "      <td>-0.306435</td>\n",
       "      <td>0.273231</td>\n",
       "      <td>1</td>\n",
       "      <td>0</td>\n",
       "      <td>1</td>\n",
       "      <td>0</td>\n",
       "      <td>0</td>\n",
       "      <td>...</td>\n",
       "      <td>1</td>\n",
       "      <td>0</td>\n",
       "      <td>1</td>\n",
       "      <td>0</td>\n",
       "      <td>1</td>\n",
       "      <td>0</td>\n",
       "      <td>0</td>\n",
       "      <td>0</td>\n",
       "      <td>1</td>\n",
       "      <td>Y</td>\n",
       "    </tr>\n",
       "    <tr>\n",
       "      <td>4</td>\n",
       "      <td>0</td>\n",
       "      <td>0.097728</td>\n",
       "      <td>-0.554487</td>\n",
       "      <td>-0.056551</td>\n",
       "      <td>0.273231</td>\n",
       "      <td>1</td>\n",
       "      <td>0</td>\n",
       "      <td>1</td>\n",
       "      <td>0</td>\n",
       "      <td>0</td>\n",
       "      <td>...</td>\n",
       "      <td>0</td>\n",
       "      <td>1</td>\n",
       "      <td>0</td>\n",
       "      <td>0</td>\n",
       "      <td>1</td>\n",
       "      <td>0</td>\n",
       "      <td>0</td>\n",
       "      <td>0</td>\n",
       "      <td>1</td>\n",
       "      <td>Y</td>\n",
       "    </tr>\n",
       "  </tbody>\n",
       "</table>\n",
       "<p>5 rows × 21 columns</p>\n",
       "</div>"
      ],
      "text/plain": [
       "   Dependents  ApplicantIncome  CoapplicantIncome  LoanAmount  \\\n",
       "0           0         0.072991          -0.554487   -0.211241   \n",
       "1           1        -0.134412          -0.038732   -0.211241   \n",
       "2           0        -0.393747          -0.554487   -0.948996   \n",
       "3           0        -0.462062           0.251980   -0.306435   \n",
       "4           0         0.097728          -0.554487   -0.056551   \n",
       "\n",
       "   Loan_Amount_Term  Credit_History  Gender_Female  Gender_Male  \\\n",
       "0          0.273231               1              0            1   \n",
       "1          0.273231               1              0            1   \n",
       "2          0.273231               1              0            1   \n",
       "3          0.273231               1              0            1   \n",
       "4          0.273231               1              0            1   \n",
       "\n",
       "   Gender_Missing  Married_Missing  ...  Married_Yes  Education_Graduate  \\\n",
       "0               0                0  ...            0                   1   \n",
       "1               0                0  ...            1                   1   \n",
       "2               0                0  ...            1                   1   \n",
       "3               0                0  ...            1                   0   \n",
       "4               0                0  ...            0                   1   \n",
       "\n",
       "   Education_Not Graduate  Self_Employed_Missing  Self_Employed_No  \\\n",
       "0                       0                      0                 1   \n",
       "1                       0                      0                 1   \n",
       "2                       0                      0                 0   \n",
       "3                       1                      0                 1   \n",
       "4                       0                      0                 1   \n",
       "\n",
       "   Self_Employed_Yes  Property_Area_Rural  Property_Area_Semiurban  \\\n",
       "0                  0                    0                        0   \n",
       "1                  0                    1                        0   \n",
       "2                  1                    0                        0   \n",
       "3                  0                    0                        0   \n",
       "4                  0                    0                        0   \n",
       "\n",
       "   Property_Area_Urban  Loan_Status  \n",
       "0                    1            Y  \n",
       "1                    0            N  \n",
       "2                    1            Y  \n",
       "3                    1            Y  \n",
       "4                    1            Y  \n",
       "\n",
       "[5 rows x 21 columns]"
      ]
     },
     "execution_count": 2,
     "metadata": {},
     "output_type": "execute_result"
    }
   ],
   "source": [
    "train_data=pd.read_csv('C:/Users/user/Desktop/pythonfiles/train_data1_loan_loan.csv')\n",
    "train_data.head()\n",
    "\n",
    "# LOADING THE TRAIN DATA"
   ]
  },
  {
   "cell_type": "code",
   "execution_count": 3,
   "metadata": {},
   "outputs": [
    {
     "data": {
      "text/html": [
       "<div>\n",
       "<style scoped>\n",
       "    .dataframe tbody tr th:only-of-type {\n",
       "        vertical-align: middle;\n",
       "    }\n",
       "\n",
       "    .dataframe tbody tr th {\n",
       "        vertical-align: top;\n",
       "    }\n",
       "\n",
       "    .dataframe thead th {\n",
       "        text-align: right;\n",
       "    }\n",
       "</style>\n",
       "<table border=\"1\" class=\"dataframe\">\n",
       "  <thead>\n",
       "    <tr style=\"text-align: right;\">\n",
       "      <th></th>\n",
       "      <th>Dependents</th>\n",
       "      <th>ApplicantIncome</th>\n",
       "      <th>CoapplicantIncome</th>\n",
       "      <th>LoanAmount</th>\n",
       "      <th>Loan_Amount_Term</th>\n",
       "      <th>Credit_History</th>\n",
       "      <th>Gender_Female</th>\n",
       "      <th>Gender_Male</th>\n",
       "      <th>Gender_Missing</th>\n",
       "      <th>Married_Missing</th>\n",
       "      <th>Married_No</th>\n",
       "      <th>Married_Yes</th>\n",
       "      <th>Education_Graduate</th>\n",
       "      <th>Education_Not Graduate</th>\n",
       "      <th>Self_Employed_Missing</th>\n",
       "      <th>Self_Employed_No</th>\n",
       "      <th>Self_Employed_Yes</th>\n",
       "      <th>Property_Area_Rural</th>\n",
       "      <th>Property_Area_Semiurban</th>\n",
       "      <th>Property_Area_Urban</th>\n",
       "    </tr>\n",
       "  </thead>\n",
       "  <tbody>\n",
       "    <tr>\n",
       "      <td>0</td>\n",
       "      <td>0</td>\n",
       "      <td>0.051857</td>\n",
       "      <td>-0.554487</td>\n",
       "      <td>-0.425428</td>\n",
       "      <td>0.273231</td>\n",
       "      <td>1.0</td>\n",
       "      <td>0</td>\n",
       "      <td>1</td>\n",
       "      <td>0</td>\n",
       "      <td>0</td>\n",
       "      <td>0</td>\n",
       "      <td>1</td>\n",
       "      <td>1</td>\n",
       "      <td>0</td>\n",
       "      <td>0</td>\n",
       "      <td>1</td>\n",
       "      <td>0</td>\n",
       "      <td>0</td>\n",
       "      <td>0</td>\n",
       "      <td>1</td>\n",
       "    </tr>\n",
       "    <tr>\n",
       "      <td>1</td>\n",
       "      <td>1</td>\n",
       "      <td>-0.381297</td>\n",
       "      <td>-0.041468</td>\n",
       "      <td>-0.235040</td>\n",
       "      <td>0.273231</td>\n",
       "      <td>1.0</td>\n",
       "      <td>0</td>\n",
       "      <td>1</td>\n",
       "      <td>0</td>\n",
       "      <td>0</td>\n",
       "      <td>0</td>\n",
       "      <td>1</td>\n",
       "      <td>1</td>\n",
       "      <td>0</td>\n",
       "      <td>0</td>\n",
       "      <td>1</td>\n",
       "      <td>0</td>\n",
       "      <td>0</td>\n",
       "      <td>0</td>\n",
       "      <td>1</td>\n",
       "    </tr>\n",
       "    <tr>\n",
       "      <td>2</td>\n",
       "      <td>2</td>\n",
       "      <td>-0.066097</td>\n",
       "      <td>0.061136</td>\n",
       "      <td>0.740701</td>\n",
       "      <td>0.273231</td>\n",
       "      <td>1.0</td>\n",
       "      <td>0</td>\n",
       "      <td>1</td>\n",
       "      <td>0</td>\n",
       "      <td>0</td>\n",
       "      <td>0</td>\n",
       "      <td>1</td>\n",
       "      <td>1</td>\n",
       "      <td>0</td>\n",
       "      <td>0</td>\n",
       "      <td>1</td>\n",
       "      <td>0</td>\n",
       "      <td>0</td>\n",
       "      <td>0</td>\n",
       "      <td>1</td>\n",
       "    </tr>\n",
       "    <tr>\n",
       "      <td>3</td>\n",
       "      <td>2</td>\n",
       "      <td>-0.501872</td>\n",
       "      <td>0.316278</td>\n",
       "      <td>-0.544421</td>\n",
       "      <td>0.273231</td>\n",
       "      <td>1.0</td>\n",
       "      <td>0</td>\n",
       "      <td>1</td>\n",
       "      <td>0</td>\n",
       "      <td>0</td>\n",
       "      <td>0</td>\n",
       "      <td>1</td>\n",
       "      <td>1</td>\n",
       "      <td>0</td>\n",
       "      <td>0</td>\n",
       "      <td>1</td>\n",
       "      <td>0</td>\n",
       "      <td>0</td>\n",
       "      <td>0</td>\n",
       "      <td>1</td>\n",
       "    </tr>\n",
       "    <tr>\n",
       "      <td>4</td>\n",
       "      <td>0</td>\n",
       "      <td>-0.348532</td>\n",
       "      <td>-0.554487</td>\n",
       "      <td>-0.806205</td>\n",
       "      <td>0.273231</td>\n",
       "      <td>1.0</td>\n",
       "      <td>0</td>\n",
       "      <td>1</td>\n",
       "      <td>0</td>\n",
       "      <td>0</td>\n",
       "      <td>1</td>\n",
       "      <td>0</td>\n",
       "      <td>0</td>\n",
       "      <td>1</td>\n",
       "      <td>0</td>\n",
       "      <td>1</td>\n",
       "      <td>0</td>\n",
       "      <td>0</td>\n",
       "      <td>0</td>\n",
       "      <td>1</td>\n",
       "    </tr>\n",
       "  </tbody>\n",
       "</table>\n",
       "</div>"
      ],
      "text/plain": [
       "   Dependents  ApplicantIncome  CoapplicantIncome  LoanAmount  \\\n",
       "0           0         0.051857          -0.554487   -0.425428   \n",
       "1           1        -0.381297          -0.041468   -0.235040   \n",
       "2           2        -0.066097           0.061136    0.740701   \n",
       "3           2        -0.501872           0.316278   -0.544421   \n",
       "4           0        -0.348532          -0.554487   -0.806205   \n",
       "\n",
       "   Loan_Amount_Term  Credit_History  Gender_Female  Gender_Male  \\\n",
       "0          0.273231             1.0              0            1   \n",
       "1          0.273231             1.0              0            1   \n",
       "2          0.273231             1.0              0            1   \n",
       "3          0.273231             1.0              0            1   \n",
       "4          0.273231             1.0              0            1   \n",
       "\n",
       "   Gender_Missing  Married_Missing  Married_No  Married_Yes  \\\n",
       "0               0                0           0            1   \n",
       "1               0                0           0            1   \n",
       "2               0                0           0            1   \n",
       "3               0                0           0            1   \n",
       "4               0                0           1            0   \n",
       "\n",
       "   Education_Graduate  Education_Not Graduate  Self_Employed_Missing  \\\n",
       "0                   1                       0                      0   \n",
       "1                   1                       0                      0   \n",
       "2                   1                       0                      0   \n",
       "3                   1                       0                      0   \n",
       "4                   0                       1                      0   \n",
       "\n",
       "   Self_Employed_No  Self_Employed_Yes  Property_Area_Rural  \\\n",
       "0                 1                  0                    0   \n",
       "1                 1                  0                    0   \n",
       "2                 1                  0                    0   \n",
       "3                 1                  0                    0   \n",
       "4                 1                  0                    0   \n",
       "\n",
       "   Property_Area_Semiurban  Property_Area_Urban  \n",
       "0                        0                    1  \n",
       "1                        0                    1  \n",
       "2                        0                    1  \n",
       "3                        0                    1  \n",
       "4                        0                    1  "
      ]
     },
     "execution_count": 3,
     "metadata": {},
     "output_type": "execute_result"
    }
   ],
   "source": [
    "test_data=pd.read_csv('C:/Users/user/Desktop/pythonfiles/test_data1_loan_loan.csv')\n",
    "test_data.head()\n",
    "\n",
    "#  LOADING THE TEST DATA"
   ]
  },
  {
   "cell_type": "code",
   "execution_count": 4,
   "metadata": {},
   "outputs": [
    {
     "name": "stdout",
     "output_type": "stream",
     "text": [
      "<class 'pandas.core.frame.DataFrame'>\n",
      "RangeIndex: 614 entries, 0 to 613\n",
      "Data columns (total 21 columns):\n",
      "Dependents                 614 non-null int64\n",
      "ApplicantIncome            614 non-null float64\n",
      "CoapplicantIncome          614 non-null float64\n",
      "LoanAmount                 614 non-null float64\n",
      "Loan_Amount_Term           614 non-null float64\n",
      "Credit_History             614 non-null int64\n",
      "Gender_Female              614 non-null int64\n",
      "Gender_Male                614 non-null int64\n",
      "Gender_Missing             614 non-null int64\n",
      "Married_Missing            614 non-null int64\n",
      "Married_No                 614 non-null int64\n",
      "Married_Yes                614 non-null int64\n",
      "Education_Graduate         614 non-null int64\n",
      "Education_Not Graduate     614 non-null int64\n",
      "Self_Employed_Missing      614 non-null int64\n",
      "Self_Employed_No           614 non-null int64\n",
      "Self_Employed_Yes          614 non-null int64\n",
      "Property_Area_Rural        614 non-null int64\n",
      "Property_Area_Semiurban    614 non-null int64\n",
      "Property_Area_Urban        614 non-null int64\n",
      "Loan_Status                614 non-null object\n",
      "dtypes: float64(4), int64(16), object(1)\n",
      "memory usage: 100.9+ KB\n"
     ]
    }
   ],
   "source": [
    "train_data.info()"
   ]
  },
  {
   "cell_type": "code",
   "execution_count": 5,
   "metadata": {},
   "outputs": [
    {
     "name": "stdout",
     "output_type": "stream",
     "text": [
      "<class 'pandas.core.frame.DataFrame'>\n",
      "RangeIndex: 367 entries, 0 to 366\n",
      "Data columns (total 20 columns):\n",
      "Dependents                 367 non-null int64\n",
      "ApplicantIncome            367 non-null float64\n",
      "CoapplicantIncome          367 non-null float64\n",
      "LoanAmount                 367 non-null float64\n",
      "Loan_Amount_Term           367 non-null float64\n",
      "Credit_History             367 non-null float64\n",
      "Gender_Female              367 non-null int64\n",
      "Gender_Male                367 non-null int64\n",
      "Gender_Missing             367 non-null int64\n",
      "Married_Missing            367 non-null int64\n",
      "Married_No                 367 non-null int64\n",
      "Married_Yes                367 non-null int64\n",
      "Education_Graduate         367 non-null int64\n",
      "Education_Not Graduate     367 non-null int64\n",
      "Self_Employed_Missing      367 non-null int64\n",
      "Self_Employed_No           367 non-null int64\n",
      "Self_Employed_Yes          367 non-null int64\n",
      "Property_Area_Rural        367 non-null int64\n",
      "Property_Area_Semiurban    367 non-null int64\n",
      "Property_Area_Urban        367 non-null int64\n",
      "dtypes: float64(5), int64(15)\n",
      "memory usage: 57.5 KB\n"
     ]
    }
   ],
   "source": [
    "test_data.info()"
   ]
  },
  {
   "cell_type": "code",
   "execution_count": 5,
   "metadata": {},
   "outputs": [],
   "source": [
    "# CHANGING THE TARGET NAMES TO NUMERICAL VALUES\n",
    "\n",
    "target_names={'Y':1 ,'N':0}\n",
    "target=train_data['Loan_Status']\n",
    "new_train_data=train_data.drop(['Loan_Status'],axis=1)\n",
    "\n",
    "target=target.map(target_names)\n"
   ]
  },
  {
   "cell_type": "code",
   "execution_count": 6,
   "metadata": {},
   "outputs": [
    {
     "data": {
      "text/plain": [
       "0    1\n",
       "1    0\n",
       "2    1\n",
       "3    1\n",
       "4    1\n",
       "Name: Loan_Status, dtype: int64"
      ]
     },
     "execution_count": 6,
     "metadata": {},
     "output_type": "execute_result"
    }
   ],
   "source": [
    "target.head()"
   ]
  },
  {
   "cell_type": "markdown",
   "metadata": {},
   "source": [
    "## FEATURE SELECTION USING LASSO REGRESSION (Regularization technique)"
   ]
  },
  {
   "cell_type": "code",
   "execution_count": 8,
   "metadata": {},
   "outputs": [
    {
     "data": {
      "text/plain": [
       "SelectFromModel(estimator=Lasso(alpha=0.001, copy_X=True, fit_intercept=True,\n",
       "                                max_iter=1000, normalize=False, positive=False,\n",
       "                                precompute=False, random_state=42,\n",
       "                                selection='cyclic', tol=0.0001,\n",
       "                                warm_start=False),\n",
       "                max_features=None, norm_order=1, prefit=False, threshold=None)"
      ]
     },
     "execution_count": 8,
     "metadata": {},
     "output_type": "execute_result"
    }
   ],
   "source": [
    "feature_model=SelectFromModel(Lasso(alpha=0.001,random_state=42)) # provinding the hyperparameters for lasso\n",
    "\n",
    "# larger the alpha value , most of the feature's coefficients becomes zero\n",
    "feature_model.fit(new_train_data,target)"
   ]
  },
  {
   "cell_type": "code",
   "execution_count": 9,
   "metadata": {},
   "outputs": [
    {
     "data": {
      "text/plain": [
       "Index(['Dependents', 'ApplicantIncome', 'CoapplicantIncome', 'LoanAmount',\n",
       "       'Loan_Amount_Term', 'Credit_History', 'Gender_Male', 'Married_No',\n",
       "       'Education_Graduate', 'Self_Employed_Missing', 'Self_Employed_No',\n",
       "       'Property_Area_Rural', 'Property_Area_Semiurban'],\n",
       "      dtype='object')"
      ]
     },
     "execution_count": 9,
     "metadata": {},
     "output_type": "execute_result"
    }
   ],
   "source": [
    "feature_selected=new_train_data.columns[(feature_model.get_support())]\n",
    "\n",
    "feature_selected # printing the features selected"
   ]
  },
  {
   "cell_type": "code",
   "execution_count": 10,
   "metadata": {},
   "outputs": [
    {
     "data": {
      "text/html": [
       "<div>\n",
       "<style scoped>\n",
       "    .dataframe tbody tr th:only-of-type {\n",
       "        vertical-align: middle;\n",
       "    }\n",
       "\n",
       "    .dataframe tbody tr th {\n",
       "        vertical-align: top;\n",
       "    }\n",
       "\n",
       "    .dataframe thead th {\n",
       "        text-align: right;\n",
       "    }\n",
       "</style>\n",
       "<table border=\"1\" class=\"dataframe\">\n",
       "  <thead>\n",
       "    <tr style=\"text-align: right;\">\n",
       "      <th></th>\n",
       "      <th>Dependents</th>\n",
       "      <th>ApplicantIncome</th>\n",
       "      <th>CoapplicantIncome</th>\n",
       "      <th>LoanAmount</th>\n",
       "      <th>Loan_Amount_Term</th>\n",
       "      <th>Credit_History</th>\n",
       "      <th>Gender_Male</th>\n",
       "      <th>Married_No</th>\n",
       "      <th>Education_Graduate</th>\n",
       "      <th>Self_Employed_Missing</th>\n",
       "      <th>Self_Employed_No</th>\n",
       "      <th>Property_Area_Rural</th>\n",
       "      <th>Property_Area_Semiurban</th>\n",
       "    </tr>\n",
       "  </thead>\n",
       "  <tbody>\n",
       "    <tr>\n",
       "      <td>0</td>\n",
       "      <td>0</td>\n",
       "      <td>0.072991</td>\n",
       "      <td>-0.554487</td>\n",
       "      <td>-0.211241</td>\n",
       "      <td>0.273231</td>\n",
       "      <td>1</td>\n",
       "      <td>1</td>\n",
       "      <td>1</td>\n",
       "      <td>1</td>\n",
       "      <td>0</td>\n",
       "      <td>1</td>\n",
       "      <td>0</td>\n",
       "      <td>0</td>\n",
       "    </tr>\n",
       "    <tr>\n",
       "      <td>1</td>\n",
       "      <td>1</td>\n",
       "      <td>-0.134412</td>\n",
       "      <td>-0.038732</td>\n",
       "      <td>-0.211241</td>\n",
       "      <td>0.273231</td>\n",
       "      <td>1</td>\n",
       "      <td>1</td>\n",
       "      <td>0</td>\n",
       "      <td>1</td>\n",
       "      <td>0</td>\n",
       "      <td>1</td>\n",
       "      <td>1</td>\n",
       "      <td>0</td>\n",
       "    </tr>\n",
       "    <tr>\n",
       "      <td>2</td>\n",
       "      <td>0</td>\n",
       "      <td>-0.393747</td>\n",
       "      <td>-0.554487</td>\n",
       "      <td>-0.948996</td>\n",
       "      <td>0.273231</td>\n",
       "      <td>1</td>\n",
       "      <td>1</td>\n",
       "      <td>0</td>\n",
       "      <td>1</td>\n",
       "      <td>0</td>\n",
       "      <td>0</td>\n",
       "      <td>0</td>\n",
       "      <td>0</td>\n",
       "    </tr>\n",
       "    <tr>\n",
       "      <td>3</td>\n",
       "      <td>0</td>\n",
       "      <td>-0.462062</td>\n",
       "      <td>0.251980</td>\n",
       "      <td>-0.306435</td>\n",
       "      <td>0.273231</td>\n",
       "      <td>1</td>\n",
       "      <td>1</td>\n",
       "      <td>0</td>\n",
       "      <td>0</td>\n",
       "      <td>0</td>\n",
       "      <td>1</td>\n",
       "      <td>0</td>\n",
       "      <td>0</td>\n",
       "    </tr>\n",
       "    <tr>\n",
       "      <td>4</td>\n",
       "      <td>0</td>\n",
       "      <td>0.097728</td>\n",
       "      <td>-0.554487</td>\n",
       "      <td>-0.056551</td>\n",
       "      <td>0.273231</td>\n",
       "      <td>1</td>\n",
       "      <td>1</td>\n",
       "      <td>1</td>\n",
       "      <td>1</td>\n",
       "      <td>0</td>\n",
       "      <td>1</td>\n",
       "      <td>0</td>\n",
       "      <td>0</td>\n",
       "    </tr>\n",
       "  </tbody>\n",
       "</table>\n",
       "</div>"
      ],
      "text/plain": [
       "   Dependents  ApplicantIncome  CoapplicantIncome  LoanAmount  \\\n",
       "0           0         0.072991          -0.554487   -0.211241   \n",
       "1           1        -0.134412          -0.038732   -0.211241   \n",
       "2           0        -0.393747          -0.554487   -0.948996   \n",
       "3           0        -0.462062           0.251980   -0.306435   \n",
       "4           0         0.097728          -0.554487   -0.056551   \n",
       "\n",
       "   Loan_Amount_Term  Credit_History  Gender_Male  Married_No  \\\n",
       "0          0.273231               1            1           1   \n",
       "1          0.273231               1            1           0   \n",
       "2          0.273231               1            1           0   \n",
       "3          0.273231               1            1           0   \n",
       "4          0.273231               1            1           1   \n",
       "\n",
       "   Education_Graduate  Self_Employed_Missing  Self_Employed_No  \\\n",
       "0                   1                      0                 1   \n",
       "1                   1                      0                 1   \n",
       "2                   1                      0                 0   \n",
       "3                   0                      0                 1   \n",
       "4                   1                      0                 1   \n",
       "\n",
       "   Property_Area_Rural  Property_Area_Semiurban  \n",
       "0                    0                        0  \n",
       "1                    1                        0  \n",
       "2                    0                        0  \n",
       "3                    0                        0  \n",
       "4                    0                        0  "
      ]
     },
     "execution_count": 10,
     "metadata": {},
     "output_type": "execute_result"
    }
   ],
   "source": [
    "xtrain=new_train_data[feature_selected]\n",
    "xtrain.head() # filtering out dataframe with selected features only features ( this is the new train set)"
   ]
  },
  {
   "cell_type": "markdown",
   "metadata": {},
   "source": [
    "## LOGISTIC REGRESSION MODELLING"
   ]
  },
  {
   "cell_type": "code",
   "execution_count": 11,
   "metadata": {},
   "outputs": [],
   "source": [
    "from sklearn.model_selection import train_test_split"
   ]
  },
  {
   "cell_type": "code",
   "execution_count": 12,
   "metadata": {},
   "outputs": [],
   "source": [
    "X_train,X_test,y_train,y_test=train_test_split(xtrain,target,random_state=0,test_size=0.20) # splitting the train set into train and test data"
   ]
  },
  {
   "cell_type": "code",
   "execution_count": 13,
   "metadata": {},
   "outputs": [],
   "source": [
    "from sklearn.linear_model import LogisticRegression"
   ]
  },
  {
   "cell_type": "code",
   "execution_count": 14,
   "metadata": {},
   "outputs": [],
   "source": [
    "logic_reg=LogisticRegression()\n",
    "logic_reg.fit(X_train,y_train)\n",
    "y_pred=logic_reg.predict(X_test) # Applying logistic regression on the training set and predicting the values of splitted test data\n"
   ]
  },
  {
   "cell_type": "code",
   "execution_count": 15,
   "metadata": {},
   "outputs": [
    {
     "data": {
      "text/plain": [
       "0.8373983739837398"
      ]
     },
     "execution_count": 15,
     "metadata": {},
     "output_type": "execute_result"
    }
   ],
   "source": [
    "# CHECKING THE ACCURACY SCORE BETWEEN THE ACTUAL TEST DATA DEPENDENT VALUE AND PREDICTED TEST DATA DEPENDENT VALUE\n",
    "\n",
    "from sklearn.metrics import accuracy_score\n",
    "\n",
    "accuracy_score(y_test,y_pred)\n",
    "\n",
    "# 83.73% ACCURACY SCORE  WHICH IS A GOOD ONE"
   ]
  },
  {
   "cell_type": "code",
   "execution_count": 16,
   "metadata": {},
   "outputs": [
    {
     "data": {
      "text/plain": [
       "array([[15, 18],\n",
       "       [ 2, 88]], dtype=int64)"
      ]
     },
     "execution_count": 16,
     "metadata": {},
     "output_type": "execute_result"
    }
   ],
   "source": [
    "# FORMING CONFUSION MATRIX FOR THE SAME \n",
    "\n",
    "\n",
    "\n",
    "from sklearn.metrics import confusion_matrix\n",
    "\n",
    "cm=(confusion_matrix(y_test,y_pred))\n",
    "\n",
    "cmdf=pd.DataFrame\n",
    "\n",
    "cm"
   ]
  },
  {
   "cell_type": "code",
   "execution_count": 17,
   "metadata": {},
   "outputs": [
    {
     "data": {
      "text/plain": [
       "0.8301886792452831"
      ]
     },
     "execution_count": 17,
     "metadata": {},
     "output_type": "execute_result"
    }
   ],
   "source": [
    "# CALCULATING THE PRECSION SCORE(Precision is the ability of a classifier not to label an instance positive that is actually negative)\n",
    "\n",
    "\n",
    "from sklearn.metrics import precision_score\n",
    "precision_score(y_test,y_pred)\n",
    "\n",
    "# PRECISION SCORE OF 83.01% IS A GOOD ONE"
   ]
  },
  {
   "cell_type": "code",
   "execution_count": 18,
   "metadata": {},
   "outputs": [
    {
     "data": {
      "text/plain": [
       "0.9777777777777777"
      ]
     },
     "execution_count": 18,
     "metadata": {},
     "output_type": "execute_result"
    }
   ],
   "source": [
    "# RECALL SCORE(Recall is the ability of a classifier to find all positive instances)\n",
    "\n",
    "\n",
    "from sklearn.metrics import recall_score\n",
    "recall_score(y_test,y_pred)\n",
    "\n",
    "# RECALL SCORE OF 97.77 % "
   ]
  },
  {
   "cell_type": "code",
   "execution_count": 20,
   "metadata": {},
   "outputs": [
    {
     "data": {
      "text/plain": [
       "0.8979591836734695"
      ]
     },
     "execution_count": 20,
     "metadata": {},
     "output_type": "execute_result"
    }
   ],
   "source": [
    "# F1 SCORE () WEIGHTED HARMONIC MEAN OF PRECISION AND RECALL SCORE)\n",
    "\n",
    "\n",
    "from sklearn.metrics import f1_score\n",
    "f1_score(y_test,y_pred)\n",
    "\n",
    "# F1 SCORE (MEASURE OF TEST'S ACCURACY ) OF 89.79% IS A GOOD ONE"
   ]
  },
  {
   "cell_type": "code",
   "execution_count": 42,
   "metadata": {},
   "outputs": [
    {
     "name": "stdout",
     "output_type": "stream",
     "text": [
      "The classification report is as follows...\n",
      "\n",
      "              precision    recall  f1-score   support\n",
      "\n",
      "           0       0.88      0.45      0.60        33\n",
      "           1       0.83      0.98      0.90        90\n",
      "\n",
      "    accuracy                           0.84       123\n",
      "   macro avg       0.86      0.72      0.75       123\n",
      "weighted avg       0.84      0.84      0.82       123\n",
      "\n"
     ]
    }
   ],
   "source": [
    "# CLASSIFICATION REPORT (representation of the main classification metrics on a per-class basis)\n",
    "\n",
    "\n",
    "from sklearn.metrics import classification_report\n",
    "\n",
    "print(\"The classification report is as follows...\\n\")\n",
    "print(classification_report(y_test, y_pred))"
   ]
  },
  {
   "cell_type": "code",
   "execution_count": 21,
   "metadata": {},
   "outputs": [
    {
     "data": {
      "image/png": "[encoded data removed]",
      "text/plain": [
       "<Figure size 432x288 with 1 Axes>"
      ]
     },
     "metadata": {
      "needs_background": "light"
     },
     "output_type": "display_data"
    }
   ],
   "source": [
    "# AUC-ROC CURVE( PROBABILITY CURVE) DETERMINES THE MODEL'S DISTINGUISHING POWER BETWEEN THE CLASSES\n",
    "\n",
    "\n",
    "\n",
    "\n",
    "from sklearn.metrics import roc_curve, roc_auc_score\n",
    "\n",
    "# Get predicted probabilities\n",
    "target_probabilities = logic_reg.predict_proba(X_test)[:,1]\n",
    "\n",
    "# Create true and false positive rates\n",
    "false_positive_rate, true_positive_rate, threshold = roc_curve(y_test,target_probabilities)\n",
    "\n",
    "# Plot ROC curve\n",
    "%matplotlib inline\n",
    "import matplotlib.pyplot as plt\n",
    "\n",
    "plt.title(\"Receiver Operating Characteristic\")\n",
    "plt.plot(false_positive_rate, true_positive_rate)\n",
    "plt.plot([0, 1], ls=\"--\")\n",
    "plt.plot([0, 0], [1, 0] , c=\".7\"), plt.plot([1, 1] , c=\".7\")\n",
    "plt.ylabel(\"True Positive Rate\")\n",
    "plt.xlabel(\"False Positive Rate\")\n",
    "plt.show()"
   ]
  },
  {
   "cell_type": "code",
   "execution_count": 22,
   "metadata": {},
   "outputs": [
    {
     "data": {
      "text/plain": [
       "0.8047138047138047"
      ]
     },
     "execution_count": 22,
     "metadata": {},
     "output_type": "execute_result"
    }
   ],
   "source": [
    "#An excellent model has AUC near to the 1 which means it has good measure of separability.\n",
    "\n",
    "\n",
    "roc_auc_score(y_test,target_probabilities)\n",
    "\n",
    "# AUC-ROC SCORE OF 80.47% IS A DECENT ONE AND OUR MODEL HAS MADE A DECENT PREDICTION"
   ]
  },
  {
   "cell_type": "code",
   "execution_count": 23,
   "metadata": {},
   "outputs": [
    {
     "name": "stdout",
     "output_type": "stream",
     "text": [
      "80.64897959183673 %\n"
     ]
    },
    {
     "name": "stderr",
     "output_type": "stream",
     "text": [
      "C:\\Users\\user\\Anaconda3\\lib\\site-packages\\sklearn\\model_selection\\_split.py:296: FutureWarning: Setting a random_state has no effect since shuffle is False. This will raise an error in 0.24. You should leave random_state to its default (None), or set shuffle=True.\n",
      "  FutureWarning\n"
     ]
    }
   ],
   "source": [
    "from sklearn.model_selection import KFold, cross_val_score, validation_curve\n",
    "from sklearn import linear_model\n",
    "\n",
    "logreg = linear_model.LogisticRegression()\n",
    "\n",
    "kfold = KFold(n_splits=10,random_state=7)\n",
    "\n",
    "cv_results = cross_val_score(logreg, X_train,y_train, cv=kfold)\n",
    "print (cv_results.mean()*100, \"%\")"
   ]
  },
  {
   "cell_type": "markdown",
   "metadata": {},
   "source": [
    "## PREDICTING THE VALUES OF ACTUAL TEST DATA"
   ]
  },
  {
   "cell_type": "code",
   "execution_count": 26,
   "metadata": {},
   "outputs": [
    {
     "name": "stdout",
     "output_type": "stream",
     "text": [
      "<class 'pandas.core.frame.DataFrame'>\n",
      "RangeIndex: 367 entries, 0 to 366\n",
      "Data columns (total 13 columns):\n",
      "Dependents                 367 non-null int64\n",
      "ApplicantIncome            367 non-null float64\n",
      "CoapplicantIncome          367 non-null float64\n",
      "LoanAmount                 367 non-null float64\n",
      "Loan_Amount_Term           367 non-null float64\n",
      "Credit_History             367 non-null float64\n",
      "Gender_Male                367 non-null int64\n",
      "Married_No                 367 non-null int64\n",
      "Education_Graduate         367 non-null int64\n",
      "Self_Employed_Missing      367 non-null int64\n",
      "Self_Employed_No           367 non-null int64\n",
      "Property_Area_Rural        367 non-null int64\n",
      "Property_Area_Semiurban    367 non-null int64\n",
      "dtypes: float64(5), int64(8)\n",
      "memory usage: 37.4 KB\n"
     ]
    }
   ],
   "source": [
    "test1_data=test_data[ feature_selected]\n",
    "test1_data.info()"
   ]
  },
  {
   "cell_type": "code",
   "execution_count": 29,
   "metadata": {},
   "outputs": [
    {
     "data": {
      "text/plain": [
       "array([1, 1, 1, 1, 1, 1, 1, 0, 1, 1, 1, 1, 1, 0, 1, 1, 1, 1, 1, 1, 1, 1,\n",
       "       1, 1, 1, 0, 1, 1, 1, 1, 1, 1, 1, 1, 1, 0, 1, 1, 1, 1, 1, 1, 1, 1,\n",
       "       1, 1, 1, 1, 1, 1, 1, 1, 1, 1, 1, 0, 1, 1, 0, 1, 1, 1, 1, 0, 1, 1,\n",
       "       0, 0, 1, 0, 1, 1, 1, 1, 1, 1, 1, 1, 1, 1, 0, 1, 0, 1, 0, 1, 1, 1,\n",
       "       1, 1, 1, 1, 1, 1, 0, 1, 1, 1, 1, 1, 1, 0, 1, 1, 1, 1, 0, 1, 1, 1,\n",
       "       1, 1, 1, 1, 1, 1, 1, 0, 0, 0, 1, 1, 1, 0, 0, 1, 0, 1, 1, 1, 1, 1,\n",
       "       1, 1, 1, 1, 1, 1, 1, 1, 0, 1, 0, 1, 1, 1, 1, 0, 1, 1, 1, 1, 1, 0,\n",
       "       1, 1, 1, 1, 1, 1, 1, 0, 1, 1, 1, 0, 0, 1, 0, 1, 1, 1, 1, 0, 0, 1,\n",
       "       1, 1, 1, 1, 1, 1, 1, 1, 1, 1, 1, 1, 1, 1, 1, 1, 0, 0, 1, 1, 0, 1,\n",
       "       0, 1, 1, 1, 1, 1, 1, 1, 1, 1, 1, 1, 1, 0, 1, 1, 1, 1, 1, 1, 1, 1,\n",
       "       1, 1, 1, 1, 0, 1, 1, 1, 1, 0, 1, 1, 1, 1, 1, 0, 0, 1, 1, 1, 1, 0,\n",
       "       1, 0, 1, 0, 1, 1, 1, 1, 0, 1, 1, 1, 1, 0, 1, 1, 1, 1, 1, 1, 1, 1,\n",
       "       1, 1, 0, 1, 0, 1, 1, 1, 1, 0, 0, 1, 1, 1, 0, 1, 1, 1, 1, 1, 1, 1,\n",
       "       1, 1, 1, 1, 1, 1, 1, 0, 1, 1, 1, 1, 1, 1, 1, 0, 1, 1, 1, 1, 1, 1,\n",
       "       1, 1, 1, 0, 1, 1, 1, 1, 1, 0, 1, 1, 1, 1, 1, 1, 1, 0, 1, 1, 1, 1,\n",
       "       1, 1, 1, 1, 1, 1, 1, 1, 1, 0, 1, 1, 1, 1, 1, 1, 0, 1, 1, 1, 1, 0,\n",
       "       1, 1, 0, 1, 1, 1, 1, 1, 1, 1, 1, 1, 1, 1, 1], dtype=int64)"
      ]
     },
     "execution_count": 29,
     "metadata": {},
     "output_type": "execute_result"
    }
   ],
   "source": [
    "y_testdata_pred=logic_reg.predict(test1_data)\n",
    "\n",
    "y_testdata_pred"
   ]
  },
  {
   "cell_type": "code",
   "execution_count": 30,
   "metadata": {},
   "outputs": [
    {
     "data": {
      "text/html": [
       "<div>\n",
       "<style scoped>\n",
       "    .dataframe tbody tr th:only-of-type {\n",
       "        vertical-align: middle;\n",
       "    }\n",
       "\n",
       "    .dataframe tbody tr th {\n",
       "        vertical-align: top;\n",
       "    }\n",
       "\n",
       "    .dataframe thead th {\n",
       "        text-align: right;\n",
       "    }\n",
       "</style>\n",
       "<table border=\"1\" class=\"dataframe\">\n",
       "  <thead>\n",
       "    <tr style=\"text-align: right;\">\n",
       "      <th></th>\n",
       "      <th>Dependents</th>\n",
       "      <th>ApplicantIncome</th>\n",
       "      <th>CoapplicantIncome</th>\n",
       "      <th>LoanAmount</th>\n",
       "      <th>Loan_Amount_Term</th>\n",
       "      <th>Credit_History</th>\n",
       "      <th>Gender_Female</th>\n",
       "      <th>Gender_Male</th>\n",
       "      <th>Gender_Missing</th>\n",
       "      <th>Married_Missing</th>\n",
       "      <th>...</th>\n",
       "      <th>Married_Yes</th>\n",
       "      <th>Education_Graduate</th>\n",
       "      <th>Education_Not Graduate</th>\n",
       "      <th>Self_Employed_Missing</th>\n",
       "      <th>Self_Employed_No</th>\n",
       "      <th>Self_Employed_Yes</th>\n",
       "      <th>Property_Area_Rural</th>\n",
       "      <th>Property_Area_Semiurban</th>\n",
       "      <th>Property_Area_Urban</th>\n",
       "      <th>pred values</th>\n",
       "    </tr>\n",
       "  </thead>\n",
       "  <tbody>\n",
       "    <tr>\n",
       "      <td>0</td>\n",
       "      <td>0</td>\n",
       "      <td>0.051857</td>\n",
       "      <td>-0.554487</td>\n",
       "      <td>-0.425428</td>\n",
       "      <td>0.273231</td>\n",
       "      <td>1.0</td>\n",
       "      <td>0</td>\n",
       "      <td>1</td>\n",
       "      <td>0</td>\n",
       "      <td>0</td>\n",
       "      <td>...</td>\n",
       "      <td>1</td>\n",
       "      <td>1</td>\n",
       "      <td>0</td>\n",
       "      <td>0</td>\n",
       "      <td>1</td>\n",
       "      <td>0</td>\n",
       "      <td>0</td>\n",
       "      <td>0</td>\n",
       "      <td>1</td>\n",
       "      <td>1</td>\n",
       "    </tr>\n",
       "    <tr>\n",
       "      <td>1</td>\n",
       "      <td>1</td>\n",
       "      <td>-0.381297</td>\n",
       "      <td>-0.041468</td>\n",
       "      <td>-0.235040</td>\n",
       "      <td>0.273231</td>\n",
       "      <td>1.0</td>\n",
       "      <td>0</td>\n",
       "      <td>1</td>\n",
       "      <td>0</td>\n",
       "      <td>0</td>\n",
       "      <td>...</td>\n",
       "      <td>1</td>\n",
       "      <td>1</td>\n",
       "      <td>0</td>\n",
       "      <td>0</td>\n",
       "      <td>1</td>\n",
       "      <td>0</td>\n",
       "      <td>0</td>\n",
       "      <td>0</td>\n",
       "      <td>1</td>\n",
       "      <td>1</td>\n",
       "    </tr>\n",
       "    <tr>\n",
       "      <td>2</td>\n",
       "      <td>2</td>\n",
       "      <td>-0.066097</td>\n",
       "      <td>0.061136</td>\n",
       "      <td>0.740701</td>\n",
       "      <td>0.273231</td>\n",
       "      <td>1.0</td>\n",
       "      <td>0</td>\n",
       "      <td>1</td>\n",
       "      <td>0</td>\n",
       "      <td>0</td>\n",
       "      <td>...</td>\n",
       "      <td>1</td>\n",
       "      <td>1</td>\n",
       "      <td>0</td>\n",
       "      <td>0</td>\n",
       "      <td>1</td>\n",
       "      <td>0</td>\n",
       "      <td>0</td>\n",
       "      <td>0</td>\n",
       "      <td>1</td>\n",
       "      <td>1</td>\n",
       "    </tr>\n",
       "    <tr>\n",
       "      <td>3</td>\n",
       "      <td>2</td>\n",
       "      <td>-0.501872</td>\n",
       "      <td>0.316278</td>\n",
       "      <td>-0.544421</td>\n",
       "      <td>0.273231</td>\n",
       "      <td>1.0</td>\n",
       "      <td>0</td>\n",
       "      <td>1</td>\n",
       "      <td>0</td>\n",
       "      <td>0</td>\n",
       "      <td>...</td>\n",
       "      <td>1</td>\n",
       "      <td>1</td>\n",
       "      <td>0</td>\n",
       "      <td>0</td>\n",
       "      <td>1</td>\n",
       "      <td>0</td>\n",
       "      <td>0</td>\n",
       "      <td>0</td>\n",
       "      <td>1</td>\n",
       "      <td>1</td>\n",
       "    </tr>\n",
       "    <tr>\n",
       "      <td>4</td>\n",
       "      <td>0</td>\n",
       "      <td>-0.348532</td>\n",
       "      <td>-0.554487</td>\n",
       "      <td>-0.806205</td>\n",
       "      <td>0.273231</td>\n",
       "      <td>1.0</td>\n",
       "      <td>0</td>\n",
       "      <td>1</td>\n",
       "      <td>0</td>\n",
       "      <td>0</td>\n",
       "      <td>...</td>\n",
       "      <td>0</td>\n",
       "      <td>0</td>\n",
       "      <td>1</td>\n",
       "      <td>0</td>\n",
       "      <td>1</td>\n",
       "      <td>0</td>\n",
       "      <td>0</td>\n",
       "      <td>0</td>\n",
       "      <td>1</td>\n",
       "      <td>1</td>\n",
       "    </tr>\n",
       "  </tbody>\n",
       "</table>\n",
       "<p>5 rows × 21 columns</p>\n",
       "</div>"
      ],
      "text/plain": [
       "   Dependents  ApplicantIncome  CoapplicantIncome  LoanAmount  \\\n",
       "0           0         0.051857          -0.554487   -0.425428   \n",
       "1           1        -0.381297          -0.041468   -0.235040   \n",
       "2           2        -0.066097           0.061136    0.740701   \n",
       "3           2        -0.501872           0.316278   -0.544421   \n",
       "4           0        -0.348532          -0.554487   -0.806205   \n",
       "\n",
       "   Loan_Amount_Term  Credit_History  Gender_Female  Gender_Male  \\\n",
       "0          0.273231             1.0              0            1   \n",
       "1          0.273231             1.0              0            1   \n",
       "2          0.273231             1.0              0            1   \n",
       "3          0.273231             1.0              0            1   \n",
       "4          0.273231             1.0              0            1   \n",
       "\n",
       "   Gender_Missing  Married_Missing  ...  Married_Yes  Education_Graduate  \\\n",
       "0               0                0  ...            1                   1   \n",
       "1               0                0  ...            1                   1   \n",
       "2               0                0  ...            1                   1   \n",
       "3               0                0  ...            1                   1   \n",
       "4               0                0  ...            0                   0   \n",
       "\n",
       "   Education_Not Graduate  Self_Employed_Missing  Self_Employed_No  \\\n",
       "0                       0                      0                 1   \n",
       "1                       0                      0                 1   \n",
       "2                       0                      0                 1   \n",
       "3                       0                      0                 1   \n",
       "4                       1                      0                 1   \n",
       "\n",
       "   Self_Employed_Yes  Property_Area_Rural  Property_Area_Semiurban  \\\n",
       "0                  0                    0                        0   \n",
       "1                  0                    0                        0   \n",
       "2                  0                    0                        0   \n",
       "3                  0                    0                        0   \n",
       "4                  0                    0                        0   \n",
       "\n",
       "   Property_Area_Urban  pred values  \n",
       "0                    1            1  \n",
       "1                    1            1  \n",
       "2                    1            1  \n",
       "3                    1            1  \n",
       "4                    1            1  \n",
       "\n",
       "[5 rows x 21 columns]"
      ]
     },
     "execution_count": 30,
     "metadata": {},
     "output_type": "execute_result"
    }
   ],
   "source": [
    "data=test_data.copy()\n",
    "\n",
    "data['pred values']=y_testdata_pred\n",
    "\n",
    "data.head()"
   ]
  },
  {
   "cell_type": "code",
   "execution_count": 31,
   "metadata": {},
   "outputs": [],
   "source": [
    "data.to_csv(r'C:\\Users\\user\\Desktop\\pythonfiles\\FINAL_LOAN_PREDICTED.csv' , index=False)"
   ]
  },
  {
   "cell_type": "markdown",
   "metadata": {},
   "source": [
    "## DECISION TREE CLSSIFIER ( NOT USED FOR FINAL PREDICTION AS THE ACCURACY SCORES WERE NOT GOOD)"
   ]
  },
  {
   "cell_type": "code",
   "execution_count": 51,
   "metadata": {},
   "outputs": [
    {
     "name": "stdout",
     "output_type": "stream",
     "text": [
      "<class 'pandas.core.frame.DataFrame'>\n",
      "RangeIndex: 614 entries, 0 to 613\n",
      "Data columns (total 20 columns):\n",
      "Dependents                 614 non-null int64\n",
      "ApplicantIncome            614 non-null float64\n",
      "CoapplicantIncome          614 non-null float64\n",
      "LoanAmount                 614 non-null float64\n",
      "Loan_Amount_Term           614 non-null float64\n",
      "Credit_History             614 non-null int64\n",
      "Gender_Female              614 non-null int64\n",
      "Gender_Male                614 non-null int64\n",
      "Gender_Missing             614 non-null int64\n",
      "Married_Missing            614 non-null int64\n",
      "Married_No                 614 non-null int64\n",
      "Married_Yes                614 non-null int64\n",
      "Education_Graduate         614 non-null int64\n",
      "Education_Not Graduate     614 non-null int64\n",
      "Self_Employed_Missing      614 non-null int64\n",
      "Self_Employed_No           614 non-null int64\n",
      "Self_Employed_Yes          614 non-null int64\n",
      "Property_Area_Rural        614 non-null int64\n",
      "Property_Area_Semiurban    614 non-null int64\n",
      "Property_Area_Urban        614 non-null int64\n",
      "dtypes: float64(4), int64(16)\n",
      "memory usage: 96.1 KB\n"
     ]
    }
   ],
   "source": [
    "new_train_data.info()"
   ]
  },
  {
   "cell_type": "code",
   "execution_count": 52,
   "metadata": {},
   "outputs": [
    {
     "data": {
      "text/plain": [
       "0    1\n",
       "1    0\n",
       "2    1\n",
       "3    1\n",
       "4    1\n",
       "Name: Loan_Status, dtype: int64"
      ]
     },
     "execution_count": 52,
     "metadata": {},
     "output_type": "execute_result"
    }
   ],
   "source": [
    "target.head()"
   ]
  },
  {
   "cell_type": "code",
   "execution_count": 53,
   "metadata": {},
   "outputs": [],
   "source": [
    "from sklearn.tree import DecisionTreeClassifier\n",
    "\n"
   ]
  },
  {
   "cell_type": "code",
   "execution_count": 58,
   "metadata": {},
   "outputs": [],
   "source": [
    "X_train,X_test,y_train,y_test=train_test_split(new_train_data,target,random_state=0,test_size=0.20)\n",
    "\n"
   ]
  },
  {
   "cell_type": "code",
   "execution_count": 59,
   "metadata": {},
   "outputs": [
    {
     "data": {
      "text/plain": [
       "DecisionTreeClassifier(ccp_alpha=0.0, class_weight=None, criterion='gini',\n",
       "                       max_depth=None, max_features=None, max_leaf_nodes=None,\n",
       "                       min_impurity_decrease=0.0, min_impurity_split=None,\n",
       "                       min_samples_leaf=1, min_samples_split=2,\n",
       "                       min_weight_fraction_leaf=0.0, presort='deprecated',\n",
       "                       random_state=0, splitter='best')"
      ]
     },
     "execution_count": 59,
     "metadata": {},
     "output_type": "execute_result"
    }
   ],
   "source": [
    "dtc=DecisionTreeClassifier(random_state=0)\n",
    "dtc.fit(X_train,y_train)"
   ]
  },
  {
   "cell_type": "code",
   "execution_count": 60,
   "metadata": {},
   "outputs": [],
   "source": [
    "y_pred1=dtc.predict(X_test)"
   ]
  },
  {
   "cell_type": "code",
   "execution_count": 61,
   "metadata": {},
   "outputs": [
    {
     "data": {
      "text/plain": [
       "0.6991869918699187"
      ]
     },
     "execution_count": 61,
     "metadata": {},
     "output_type": "execute_result"
    }
   ],
   "source": [
    "accuracy_score(y_test,y_pred1)"
   ]
  },
  {
   "cell_type": "code",
   "execution_count": 62,
   "metadata": {},
   "outputs": [
    {
     "data": {
      "text/plain": [
       "array([[18, 15],\n",
       "       [22, 68]], dtype=int64)"
      ]
     },
     "execution_count": 62,
     "metadata": {},
     "output_type": "execute_result"
    }
   ],
   "source": [
    "confusion_matrix(y_test,y_pred1)"
   ]
  },
  {
   "cell_type": "code",
   "execution_count": 63,
   "metadata": {},
   "outputs": [
    {
     "data": {
      "text/plain": [
       "0.8192771084337349"
      ]
     },
     "execution_count": 63,
     "metadata": {},
     "output_type": "execute_result"
    }
   ],
   "source": [
    "precision_score(y_test,y_pred1)"
   ]
  },
  {
   "cell_type": "code",
   "execution_count": 64,
   "metadata": {},
   "outputs": [
    {
     "data": {
      "text/plain": [
       "0.7555555555555555"
      ]
     },
     "execution_count": 64,
     "metadata": {},
     "output_type": "execute_result"
    }
   ],
   "source": [
    "recall_score(y_test,y_pred1)"
   ]
  },
  {
   "cell_type": "code",
   "execution_count": 65,
   "metadata": {},
   "outputs": [
    {
     "data": {
      "text/plain": [
       "0.7861271676300577"
      ]
     },
     "execution_count": 65,
     "metadata": {},
     "output_type": "execute_result"
    }
   ],
   "source": [
    "f1_score(y_test,y_pred1)"
   ]
  },
  {
   "cell_type": "code",
   "execution_count": 66,
   "metadata": {},
   "outputs": [
    {
     "name": "stdout",
     "output_type": "stream",
     "text": [
      "The classification report is as follows...\n",
      "\n",
      "              precision    recall  f1-score   support\n",
      "\n",
      "           0       0.45      0.55      0.49        33\n",
      "           1       0.82      0.76      0.79        90\n",
      "\n",
      "    accuracy                           0.70       123\n",
      "   macro avg       0.63      0.65      0.64       123\n",
      "weighted avg       0.72      0.70      0.71       123\n",
      "\n"
     ]
    }
   ],
   "source": [
    "from sklearn.metrics import classification_report\n",
    "\n",
    "print(\"The classification report is as follows...\\n\")\n",
    "print(classification_report(y_test, y_pred1))"
   ]
  },
  {
   "cell_type": "code",
   "execution_count": 68,
   "metadata": {},
   "outputs": [
    {
     "data": {
      "image/png": "[encoded data removed]",
      "text/plain": [
       "<Figure size 432x288 with 1 Axes>"
      ]
     },
     "metadata": {
      "needs_background": "light"
     },
     "output_type": "display_data"
    }
   ],
   "source": [
    "from sklearn.metrics import roc_curve, roc_auc_score\n",
    "\n",
    "# Get predicted probabilities\n",
    "targeted_probabilities = dtc.predict_proba(X_test)[:,1]\n",
    "\n",
    "# Create true and false positive rates\n",
    "false_positive_rate, true_positive_rate, threshold = roc_curve(y_test,target_probabilities)\n",
    "\n",
    "# Plot ROC curve\n",
    "%matplotlib inline\n",
    "import matplotlib.pyplot as plt\n",
    "\n",
    "plt.title(\"Receiver Operating Characteristic\")\n",
    "plt.plot(false_positive_rate, true_positive_rate)\n",
    "plt.plot([0, 1], ls=\"--\")\n",
    "plt.plot([0, 0], [1, 0] , c=\".7\"), plt.plot([1, 1] , c=\".7\")\n",
    "plt.ylabel(\"True Positive Rate\")\n",
    "plt.xlabel(\"False Positive Rate\")\n",
    "plt.show()"
   ]
  },
  {
   "cell_type": "code",
   "execution_count": 69,
   "metadata": {},
   "outputs": [
    {
     "data": {
      "text/plain": [
       "0.6505050505050505"
      ]
     },
     "execution_count": 69,
     "metadata": {},
     "output_type": "execute_result"
    }
   ],
   "source": [
    "roc_auc_score(y_test,targeted_probabilities)"
   ]
  },
  {
   "cell_type": "code",
   "execution_count": null,
   "metadata": {},
   "outputs": [],
   "source": []
  }
 ],
 "metadata": {
  "kernelspec": {
   "display_name": "Python 3",
   "language": "python",
   "name": "python3"
  },
  "language_info": {
   "codemirror_mode": {
    "name": "ipython",
    "version": 3
   },
   "file_extension": ".py",
   "mimetype": "text/x-python",
   "name": "python",
   "nbconvert_exporter": "python",
   "pygments_lexer": "ipython3",
   "version": "3.7.4"
  }
 },
 "nbformat": 4,
 "nbformat_minor": 2
}
